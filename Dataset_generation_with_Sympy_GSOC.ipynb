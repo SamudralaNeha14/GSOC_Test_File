{
  "nbformat": 4,
  "nbformat_minor": 0,
  "metadata": {
    "colab": {
      "provenance": []
    },
    "kernelspec": {
      "name": "python3",
      "display_name": "Python 3"
    },
    "language_info": {
      "name": "python"
    }
  },
  "cells": [
    {
      "cell_type": "code",
      "execution_count": 1,
      "metadata": {
        "colab": {
          "base_uri": "https://localhost:8080/"
        },
        "id": "QNthg1446Jky",
        "outputId": "85dc3d4a-7019-45de-f5be-5ba9e1458da6"
      },
      "outputs": [
        {
          "output_type": "stream",
          "name": "stdout",
          "text": [
            "x\n"
          ]
        }
      ],
      "source": [
        "#importing needed libraries and defining symbolic function 'x' using 'symbols' function\n",
        "import sympy as sp\n",
        "x = sp.symbols('x')\n",
        "print(x)"
      ]
    },
    {
      "cell_type": "code",
      "source": [
        "#defining the list of functions for which we will generate taylor expansions up to 4th degree\n",
        "functions = [sp.sin(x), sp.cos(x), sp.exp(x), sp.log(x + 1)]\n",
        "\n",
        "print(\"Original Functions:\")\n",
        "for function in functions:\n",
        "    print(function)"
      ],
      "metadata": {
        "colab": {
          "base_uri": "https://localhost:8080/"
        },
        "id": "A376iuMh6Ppe",
        "outputId": "a753c348-347c-443e-91db-4782c44f765d"
      },
      "execution_count": 2,
      "outputs": [
        {
          "output_type": "stream",
          "name": "stdout",
          "text": [
            "Original Functions:\n",
            "sin(x)\n",
            "cos(x)\n",
            "exp(x)\n",
            "log(x + 1)\n"
          ]
        }
      ]
    },
    {
      "cell_type": "code",
      "source": [
        "#defining the point at which we want to henerate taylor expansions and list to store the tokenized data\n",
        "point = 0\n",
        "data = []"
      ],
      "metadata": {
        "id": "I2oqhuc96PsW"
      },
      "execution_count": 3,
      "outputs": []
    },
    {
      "cell_type": "code",
      "source": [
        "#loop over the list of functions and generate their tayler expansion up to the 4th order.\n",
        "for function in functions:\n",
        "    taylor_expansion = function.series(x, point, n=5).removeO()\n",
        "    data.append((str(function), str(taylor_expansion)))\n",
        "\n",
        "print(\"\\nTaylor Expansions:\")\n",
        "for _, taylor_expansion in data:\n",
        "    print(taylor_expansion)"
      ],
      "metadata": {
        "colab": {
          "base_uri": "https://localhost:8080/"
        },
        "id": "9s-HHDk_6Pv6",
        "outputId": "f810718d-0040-4f35-9334-08b76e2a7da2"
      },
      "execution_count": 4,
      "outputs": [
        {
          "output_type": "stream",
          "name": "stdout",
          "text": [
            "\n",
            "Taylor Expansions:\n",
            "-x**3/6 + x\n",
            "x**4/24 - x**2/2 + 1\n",
            "x**4/24 + x**3/6 + x**2/2 + x + 1\n",
            "-x**4/4 + x**3/3 - x**2/2 + x\n"
          ]
        }
      ]
    },
    {
      "cell_type": "code",
      "source": [
        "#tokenizing the data using 'tokenize' function from 'nltk' library\n",
        "import nltk\n",
        "tokenizer = nltk.RegexpTokenizer('\\w+')\n",
        "tokenized_data = [(tokenizer.tokenize(function), tokenizer.tokenize(taylor_expansion)) for function, taylor_expansion in data]\n",
        "print(\"\\nTokenized Data:\")\n",
        "for function, taylor_expansion in tokenized_data:\n",
        "    print(function, \"->\", taylor_expansion)"
      ],
      "metadata": {
        "colab": {
          "base_uri": "https://localhost:8080/"
        },
        "id": "h5NK7DiC6Yd0",
        "outputId": "76286dad-ea54-4e0d-8b11-e2aa9a45fe9b"
      },
      "execution_count": 5,
      "outputs": [
        {
          "output_type": "stream",
          "name": "stdout",
          "text": [
            "\n",
            "Tokenized Data:\n",
            "['sin', 'x'] -> ['x', '3', '6', 'x']\n",
            "['cos', 'x'] -> ['x', '4', '24', 'x', '2', '2', '1']\n",
            "['exp', 'x'] -> ['x', '4', '24', 'x', '3', '6', 'x', '2', '2', 'x', '1']\n",
            "['log', 'x', '1'] -> ['x', '4', '4', 'x', '3', '3', 'x', '2', '2', 'x']\n"
          ]
        }
      ]
    }
  ]
}