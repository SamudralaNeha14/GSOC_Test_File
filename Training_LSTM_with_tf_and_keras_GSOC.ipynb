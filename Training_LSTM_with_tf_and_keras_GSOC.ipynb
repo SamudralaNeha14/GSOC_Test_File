{
  "nbformat": 4,
  "nbformat_minor": 0,
  "metadata": {
    "colab": {
      "provenance": []
    },
    "kernelspec": {
      "name": "python3",
      "display_name": "Python 3"
    },
    "language_info": {
      "name": "python"
    }
  },
  "cells": [
    {
      "cell_type": "code",
      "execution_count": 1,
      "metadata": {
        "id": "t1LlTruNv9C7"
      },
      "outputs": [],
      "source": [
        "import numpy as np\n",
        "\n",
        "def taylor_sin(x, n=5):\n",
        "    \"\"\"Compute the Taylor expansion of sin(x) around x=0 up to order n.\"\"\"\n",
        "    res = 0\n",
        "    for i in range(n):\n",
        "        res += ((-1)**i / np.math.factorial(2*i + 1)) * x**(2*i + 1)\n",
        "    return res\n",
        "\n",
        "# Generate a dataset of input-output pairs\n",
        "X_train = np.linspace(-np.pi, np.pi, 1000)\n",
        "y_train = np.array([taylor_sin(x) for x in X_train])"
      ]
    },
    {
      "cell_type": "code",
      "source": [
        "n_steps = 10\n",
        "\n",
        "def prepare_data(X, y, n_steps):\n",
        "    X_seq, y_seq = [], []\n",
        "    for i in range(len(X) - n_steps):\n",
        "        X_seq.append(X[i:i+n_steps])\n",
        "        y_seq.append(y[i:i+n_steps])\n",
        "    return np.array(X_seq), np.array(y_seq)\n",
        "\n",
        "# Prepare the training data\n",
        "X_train_seq, y_train_seq = prepare_data(X_train, y_train, n_steps)\n"
      ],
      "metadata": {
        "id": "CMycj_CJwAqu"
      },
      "execution_count": 2,
      "outputs": []
    },
    {
      "cell_type": "code",
      "source": [
        "from tensorflow.keras.models import Sequential\n",
        "from tensorflow.keras.layers import LSTM, Dense\n",
        "\n",
        "# Define the LSTM model\n",
        "model = Sequential([\n",
        "    LSTM(64, activation='relu', input_shape=(n_steps, 1)),\n",
        "    Dense(1)\n",
        "])\n",
        "\n",
        "# Compile the model\n",
        "model.compile(optimizer='adam', loss='mse')\n"
      ],
      "metadata": {
        "id": "IG_EQcNPwAxv"
      },
      "execution_count": 4,
      "outputs": []
    },
    {
      "cell_type": "code",
      "source": [
        "# Train the model\n",
        "model.fit(X_train_seq, y_train_seq, epochs=100, batch_size=32)"
      ],
      "metadata": {
        "colab": {
          "base_uri": "https://localhost:8080/",
          "height": 0
        },
        "id": "QGuTf1vNwFJ3",
        "outputId": "07dd4ff8-3403-493b-f6b7-108b19b909bc"
      },
      "execution_count": 5,
      "outputs": [
        {
          "output_type": "stream",
          "name": "stdout",
          "text": [
            "Epoch 1/100\n",
            "31/31 [==============================] - 2s 8ms/step - loss: 0.2815\n",
            "Epoch 2/100\n",
            "31/31 [==============================] - 0s 7ms/step - loss: 0.1609\n",
            "Epoch 3/100\n",
            "31/31 [==============================] - 0s 7ms/step - loss: 0.1108\n",
            "Epoch 4/100\n",
            "31/31 [==============================] - 0s 8ms/step - loss: 0.0403\n",
            "Epoch 5/100\n",
            "31/31 [==============================] - 0s 8ms/step - loss: 0.0036\n",
            "Epoch 6/100\n",
            "31/31 [==============================] - 0s 7ms/step - loss: 5.1043e-04\n",
            "Epoch 7/100\n",
            "31/31 [==============================] - 0s 8ms/step - loss: 2.1768e-04\n",
            "Epoch 8/100\n",
            "31/31 [==============================] - 0s 8ms/step - loss: 1.8232e-04\n",
            "Epoch 9/100\n",
            "31/31 [==============================] - 0s 9ms/step - loss: 1.6892e-04\n",
            "Epoch 10/100\n",
            "31/31 [==============================] - 0s 11ms/step - loss: 1.6523e-04\n",
            "Epoch 11/100\n",
            "31/31 [==============================] - 0s 13ms/step - loss: 1.6375e-04\n",
            "Epoch 12/100\n",
            "31/31 [==============================] - 1s 17ms/step - loss: 1.6415e-04\n",
            "Epoch 13/100\n",
            "31/31 [==============================] - 0s 12ms/step - loss: 1.6262e-04\n",
            "Epoch 14/100\n",
            "31/31 [==============================] - 1s 17ms/step - loss: 1.6223e-04\n",
            "Epoch 15/100\n",
            "31/31 [==============================] - 0s 11ms/step - loss: 1.6238e-04\n",
            "Epoch 16/100\n",
            "31/31 [==============================] - 0s 14ms/step - loss: 1.6210e-04\n",
            "Epoch 17/100\n",
            "31/31 [==============================] - 0s 7ms/step - loss: 1.6153e-04\n",
            "Epoch 18/100\n",
            "31/31 [==============================] - 0s 7ms/step - loss: 1.6156e-04\n",
            "Epoch 19/100\n",
            "31/31 [==============================] - 0s 7ms/step - loss: 1.6149e-04\n",
            "Epoch 20/100\n",
            "31/31 [==============================] - 0s 7ms/step - loss: 1.6144e-04\n",
            "Epoch 21/100\n",
            "31/31 [==============================] - 0s 8ms/step - loss: 1.6192e-04\n",
            "Epoch 22/100\n",
            "31/31 [==============================] - 0s 8ms/step - loss: 1.6153e-04\n",
            "Epoch 23/100\n",
            "31/31 [==============================] - 0s 8ms/step - loss: 1.6131e-04\n",
            "Epoch 24/100\n",
            "31/31 [==============================] - 0s 8ms/step - loss: 1.6122e-04\n",
            "Epoch 25/100\n",
            "31/31 [==============================] - 0s 8ms/step - loss: 1.6136e-04\n",
            "Epoch 26/100\n",
            "31/31 [==============================] - 0s 7ms/step - loss: 1.6163e-04\n",
            "Epoch 27/100\n",
            "31/31 [==============================] - 0s 7ms/step - loss: 1.6140e-04\n",
            "Epoch 28/100\n",
            "31/31 [==============================] - 0s 7ms/step - loss: 1.6136e-04\n",
            "Epoch 29/100\n",
            "31/31 [==============================] - 0s 8ms/step - loss: 1.6147e-04\n",
            "Epoch 30/100\n",
            "31/31 [==============================] - 0s 8ms/step - loss: 1.6221e-04\n",
            "Epoch 31/100\n",
            "31/31 [==============================] - 0s 8ms/step - loss: 1.6252e-04\n",
            "Epoch 32/100\n",
            "31/31 [==============================] - 0s 8ms/step - loss: 1.6216e-04\n",
            "Epoch 33/100\n",
            "31/31 [==============================] - 0s 7ms/step - loss: 1.6164e-04\n",
            "Epoch 34/100\n",
            "31/31 [==============================] - 0s 8ms/step - loss: 1.6246e-04\n",
            "Epoch 35/100\n",
            "31/31 [==============================] - 0s 7ms/step - loss: 1.6169e-04\n",
            "Epoch 36/100\n",
            "31/31 [==============================] - 0s 8ms/step - loss: 1.6151e-04\n",
            "Epoch 37/100\n",
            "31/31 [==============================] - 0s 7ms/step - loss: 1.6140e-04\n",
            "Epoch 38/100\n",
            "31/31 [==============================] - 0s 7ms/step - loss: 1.6134e-04\n",
            "Epoch 39/100\n",
            "31/31 [==============================] - 0s 8ms/step - loss: 1.6174e-04\n",
            "Epoch 40/100\n",
            "31/31 [==============================] - 0s 11ms/step - loss: 1.6180e-04\n",
            "Epoch 41/100\n",
            "31/31 [==============================] - 0s 14ms/step - loss: 1.6229e-04\n",
            "Epoch 42/100\n",
            "31/31 [==============================] - 1s 16ms/step - loss: 1.6187e-04\n",
            "Epoch 43/100\n",
            "31/31 [==============================] - 0s 15ms/step - loss: 1.6260e-04\n",
            "Epoch 44/100\n",
            "31/31 [==============================] - 1s 17ms/step - loss: 1.6214e-04\n",
            "Epoch 45/100\n",
            "31/31 [==============================] - 0s 15ms/step - loss: 1.6411e-04\n",
            "Epoch 46/100\n",
            "31/31 [==============================] - 0s 13ms/step - loss: 1.6886e-04\n",
            "Epoch 47/100\n",
            "31/31 [==============================] - 1s 18ms/step - loss: 1.7546e-04\n",
            "Epoch 48/100\n",
            "31/31 [==============================] - 0s 12ms/step - loss: 1.6426e-04\n",
            "Epoch 49/100\n",
            "31/31 [==============================] - 1s 23ms/step - loss: 1.6395e-04\n",
            "Epoch 50/100\n",
            "31/31 [==============================] - 1s 23ms/step - loss: 1.6936e-04\n",
            "Epoch 51/100\n",
            "31/31 [==============================] - 1s 19ms/step - loss: 1.6565e-04\n",
            "Epoch 52/100\n",
            "31/31 [==============================] - 1s 19ms/step - loss: 1.7067e-04\n",
            "Epoch 53/100\n",
            "31/31 [==============================] - 1s 22ms/step - loss: 1.6503e-04\n",
            "Epoch 54/100\n",
            "31/31 [==============================] - 1s 19ms/step - loss: 1.6258e-04\n",
            "Epoch 55/100\n",
            "31/31 [==============================] - 0s 16ms/step - loss: 1.6527e-04\n",
            "Epoch 56/100\n",
            "31/31 [==============================] - 1s 16ms/step - loss: 1.6430e-04\n",
            "Epoch 57/100\n",
            "31/31 [==============================] - 1s 17ms/step - loss: 1.6708e-04\n",
            "Epoch 58/100\n",
            "31/31 [==============================] - 0s 14ms/step - loss: 1.6292e-04\n",
            "Epoch 59/100\n",
            "31/31 [==============================] - 0s 14ms/step - loss: 1.6255e-04\n",
            "Epoch 60/100\n",
            "31/31 [==============================] - 1s 16ms/step - loss: 1.6222e-04\n",
            "Epoch 61/100\n",
            "31/31 [==============================] - 1s 16ms/step - loss: 1.6614e-04\n",
            "Epoch 62/100\n",
            "31/31 [==============================] - 1s 17ms/step - loss: 1.7763e-04\n",
            "Epoch 63/100\n",
            "31/31 [==============================] - 0s 11ms/step - loss: 6.9301e-04\n",
            "Epoch 64/100\n",
            "31/31 [==============================] - 0s 8ms/step - loss: 5.4787e-04\n",
            "Epoch 65/100\n",
            "31/31 [==============================] - 0s 7ms/step - loss: 2.8281e-04\n",
            "Epoch 66/100\n",
            "31/31 [==============================] - 0s 7ms/step - loss: 2.2346e-04\n",
            "Epoch 67/100\n",
            "31/31 [==============================] - 0s 8ms/step - loss: 1.9213e-04\n",
            "Epoch 68/100\n",
            "31/31 [==============================] - 0s 8ms/step - loss: 2.1296e-04\n",
            "Epoch 69/100\n",
            "31/31 [==============================] - 0s 7ms/step - loss: 1.7303e-04\n",
            "Epoch 70/100\n",
            "31/31 [==============================] - 0s 7ms/step - loss: 1.7165e-04\n",
            "Epoch 71/100\n",
            "31/31 [==============================] - 0s 8ms/step - loss: 1.7243e-04\n",
            "Epoch 72/100\n",
            "31/31 [==============================] - 0s 7ms/step - loss: 3.2713e-04\n",
            "Epoch 73/100\n",
            "31/31 [==============================] - 0s 8ms/step - loss: 3.2883e-04\n",
            "Epoch 74/100\n",
            "31/31 [==============================] - 0s 7ms/step - loss: 1.8852e-04\n",
            "Epoch 75/100\n",
            "31/31 [==============================] - 0s 7ms/step - loss: 1.8373e-04\n",
            "Epoch 76/100\n",
            "31/31 [==============================] - 0s 7ms/step - loss: 1.6534e-04\n",
            "Epoch 77/100\n",
            "31/31 [==============================] - 0s 8ms/step - loss: 1.7050e-04\n",
            "Epoch 78/100\n",
            "31/31 [==============================] - 0s 8ms/step - loss: 1.8538e-04\n",
            "Epoch 79/100\n",
            "31/31 [==============================] - 0s 8ms/step - loss: 1.7488e-04\n",
            "Epoch 80/100\n",
            "31/31 [==============================] - 0s 8ms/step - loss: 1.7348e-04\n",
            "Epoch 81/100\n",
            "31/31 [==============================] - 0s 8ms/step - loss: 1.6675e-04\n",
            "Epoch 82/100\n",
            "31/31 [==============================] - 0s 8ms/step - loss: 1.6370e-04\n",
            "Epoch 83/100\n",
            "31/31 [==============================] - 0s 8ms/step - loss: 1.6625e-04\n",
            "Epoch 84/100\n",
            "31/31 [==============================] - 0s 8ms/step - loss: 1.6805e-04\n",
            "Epoch 85/100\n",
            "31/31 [==============================] - 0s 7ms/step - loss: 1.6263e-04\n",
            "Epoch 86/100\n",
            "31/31 [==============================] - 0s 11ms/step - loss: 1.6219e-04\n",
            "Epoch 87/100\n",
            "31/31 [==============================] - 0s 12ms/step - loss: 1.6707e-04\n",
            "Epoch 88/100\n",
            "31/31 [==============================] - 0s 11ms/step - loss: 1.6317e-04\n",
            "Epoch 89/100\n",
            "31/31 [==============================] - 0s 11ms/step - loss: 1.6306e-04\n",
            "Epoch 90/100\n",
            "31/31 [==============================] - 0s 11ms/step - loss: 1.6199e-04\n",
            "Epoch 91/100\n",
            "31/31 [==============================] - 0s 11ms/step - loss: 1.6765e-04\n",
            "Epoch 92/100\n",
            "31/31 [==============================] - 0s 11ms/step - loss: 1.6452e-04\n",
            "Epoch 93/100\n",
            "31/31 [==============================] - 0s 11ms/step - loss: 1.9994e-04\n",
            "Epoch 94/100\n",
            "31/31 [==============================] - 0s 10ms/step - loss: 1.8317e-04\n",
            "Epoch 95/100\n",
            "31/31 [==============================] - 0s 8ms/step - loss: 1.8509e-04\n",
            "Epoch 96/100\n",
            "31/31 [==============================] - 0s 8ms/step - loss: 2.2423e-04\n",
            "Epoch 97/100\n",
            "31/31 [==============================] - 0s 8ms/step - loss: 2.1545e-04\n",
            "Epoch 98/100\n",
            "31/31 [==============================] - 0s 8ms/step - loss: 1.7455e-04\n",
            "Epoch 99/100\n",
            "31/31 [==============================] - 0s 8ms/step - loss: 1.7320e-04\n",
            "Epoch 100/100\n",
            "31/31 [==============================] - 0s 7ms/step - loss: 1.7219e-04\n"
          ]
        },
        {
          "output_type": "execute_result",
          "data": {
            "text/plain": [
              "<keras.callbacks.History at 0x7fe3c8317cd0>"
            ]
          },
          "metadata": {},
          "execution_count": 5
        }
      ]
    },
    {
      "cell_type": "code",
      "source": [
        "import matplotlib.pyplot as plt\n",
        "\n",
        "# Generate predictions\n",
        "X_test = np.linspace(-np.pi, np.pi, 100)\n",
        "y_test = np.array([taylor_sin(x) for x in X_test])\n",
        "X_test_seq, y_test_seq = prepare_data(X_test, y_test, n_steps)\n",
        "y_pred_seq = model.predict(X_test_seq)\n",
        "\n",
        "# Plot the results\n",
        "plt.plot(X_test, y_test, label='Ground Truth')\n",
        "plt.plot(X_test[n_steps:], y_pred_seq[:, -1], label='Predictions')\n",
        "plt.legend()\n",
        "plt.show()"
      ],
      "metadata": {
        "colab": {
          "base_uri": "https://localhost:8080/",
          "height": 447
        },
        "id": "ZzJhkHntwFMo",
        "outputId": "bbc45854-2cdf-4780-b370-87f6ac78b87d"
      },
      "execution_count": 6,
      "outputs": [
        {
          "output_type": "stream",
          "name": "stdout",
          "text": [
            "3/3 [==============================] - 0s 5ms/step\n"
          ]
        },
        {
          "output_type": "display_data",
          "data": {
            "text/plain": [
              "<Figure size 640x480 with 1 Axes>"
            ],
            "image/png": "[encoded data removed]"
          },
          "metadata": {}
        }
      ]
    },
    {
      "cell_type": "code",
      "source": [],
      "metadata": {
        "id": "USlxWUDZwFQN"
      },
      "execution_count": null,
      "outputs": []
    }
  ]
}